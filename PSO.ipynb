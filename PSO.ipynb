{
  "nbformat": 4,
  "nbformat_minor": 0,
  "metadata": {
    "colab": {
      "provenance": []
    },
    "kernelspec": {
      "name": "python3",
      "display_name": "Python 3"
    },
    "language_info": {
      "name": "python"
    }
  },
  "cells": [
    {
      "cell_type": "markdown",
      "source": [
        "Since softpy is not a Python package available via pip, I manually cloned the GitHub repository and added the relevant folder to Python's module search path."
      ],
      "metadata": {
        "id": "gpeK3FQue38a"
      }
    },
    {
      "cell_type": "markdown",
      "source": [
        "### Setup repository"
      ],
      "metadata": {
        "id": "cPf1A0L4g-wt"
      }
    },
    {
      "cell_type": "code",
      "source": [
        "!rm -rf softpy\n",
        "\n",
        "#Cloned the repository\n",
        "!git clone https://github.com/AndreaCampagner/softpy.git\n",
        "\n",
        "#Added the root path to sys.path\n",
        "import sys\n",
        "sys.path.append(\"/content/softpy\")\n"
      ],
      "metadata": {
        "colab": {
          "base_uri": "https://localhost:8080/"
        },
        "id": "PQSTvb2zdoYH",
        "outputId": "84904025-7bdd-4543-aca8-977067d052a0"
      },
      "execution_count": 8,
      "outputs": [
        {
          "output_type": "stream",
          "name": "stdout",
          "text": [
            "Cloning into 'softpy'...\n",
            "remote: Enumerating objects: 696, done.\u001b[K\n",
            "remote: Counting objects:   0% (1/184)\u001b[K\rremote: Counting objects:   1% (2/184)\u001b[K\rremote: Counting objects:   2% (4/184)\u001b[K\rremote: Counting objects:   3% (6/184)\u001b[K\rremote: Counting objects:   4% (8/184)\u001b[K\rremote: Counting objects:   5% (10/184)\u001b[K\rremote: Counting objects:   6% (12/184)\u001b[K\rremote: Counting objects:   7% (13/184)\u001b[K\rremote: Counting objects:   8% (15/184)\u001b[K\rremote: Counting objects:   9% (17/184)\u001b[K\rremote: Counting objects:  10% (19/184)\u001b[K\rremote: Counting objects:  11% (21/184)\u001b[K\rremote: Counting objects:  12% (23/184)\u001b[K\rremote: Counting objects:  13% (24/184)\u001b[K\rremote: Counting objects:  14% (26/184)\u001b[K\rremote: Counting objects:  15% (28/184)\u001b[K\rremote: Counting objects:  16% (30/184)\u001b[K\rremote: Counting objects:  17% (32/184)\u001b[K\rremote: Counting objects:  18% (34/184)\u001b[K\rremote: Counting objects:  19% (35/184)\u001b[K\rremote: Counting objects:  20% (37/184)\u001b[K\rremote: Counting objects:  21% (39/184)\u001b[K\rremote: Counting objects:  22% (41/184)\u001b[K\rremote: Counting objects:  23% (43/184)\u001b[K\rremote: Counting objects:  24% (45/184)\u001b[K\rremote: Counting objects:  25% (46/184)\u001b[K\rremote: Counting objects:  26% (48/184)\u001b[K\rremote: Counting objects:  27% (50/184)\u001b[K\rremote: Counting objects:  28% (52/184)\u001b[K\rremote: Counting objects:  29% (54/184)\u001b[K\rremote: Counting objects:  30% (56/184)\u001b[K\rremote: Counting objects:  31% (58/184)\u001b[K\rremote: Counting objects:  32% (59/184)\u001b[K\rremote: Counting objects:  33% (61/184)\u001b[K\rremote: Counting objects:  34% (63/184)\u001b[K\rremote: Counting objects:  35% (65/184)\u001b[K\rremote: Counting objects:  36% (67/184)\u001b[K\rremote: Counting objects:  37% (69/184)\u001b[K\rremote: Counting objects:  38% (70/184)\u001b[K\rremote: Counting objects:  39% (72/184)\u001b[K\rremote: Counting objects:  40% (74/184)\u001b[K\rremote: Counting objects:  41% (76/184)\u001b[K\rremote: Counting objects:  42% (78/184)\u001b[K\rremote: Counting objects:  43% (80/184)\u001b[K\rremote: Counting objects:  44% (81/184)\u001b[K\rremote: Counting objects:  45% (83/184)\u001b[K\rremote: Counting objects:  46% (85/184)\u001b[K\rremote: Counting objects:  47% (87/184)\u001b[K\rremote: Counting objects:  48% (89/184)\u001b[K\rremote: Counting objects:  49% (91/184)\u001b[K\rremote: Counting objects:  50% (92/184)\u001b[K\rremote: Counting objects:  51% (94/184)\u001b[K\rremote: Counting objects:  52% (96/184)\u001b[K\rremote: Counting objects:  53% (98/184)\u001b[K\rremote: Counting objects:  54% (100/184)\u001b[K\rremote: Counting objects:  55% (102/184)\u001b[K\rremote: Counting objects:  56% (104/184)\u001b[K\rremote: Counting objects:  57% (105/184)\u001b[K\rremote: Counting objects:  58% (107/184)\u001b[K\rremote: Counting objects:  59% (109/184)\u001b[K\rremote: Counting objects:  60% (111/184)\u001b[K\rremote: Counting objects:  61% (113/184)\u001b[K\rremote: Counting objects:  62% (115/184)\u001b[K\rremote: Counting objects:  63% (116/184)\u001b[K\rremote: Counting objects:  64% (118/184)\u001b[K\rremote: Counting objects:  65% (120/184)\u001b[K\rremote: Counting objects:  66% (122/184)\u001b[K\rremote: Counting objects:  67% (124/184)\u001b[K\rremote: Counting objects:  68% (126/184)\u001b[K\rremote: Counting objects:  69% (127/184)\u001b[K\rremote: Counting objects:  70% (129/184)\u001b[K\rremote: Counting objects:  71% (131/184)\u001b[K\rremote: Counting objects:  72% (133/184)\u001b[K\rremote: Counting objects:  73% (135/184)\u001b[K\rremote: Counting objects:  74% (137/184)\u001b[K\rremote: Counting objects:  75% (138/184)\u001b[K\rremote: Counting objects:  76% (140/184)\u001b[K\rremote: Counting objects:  77% (142/184)\u001b[K\rremote: Counting objects:  78% (144/184)\u001b[K\rremote: Counting objects:  79% (146/184)\u001b[K\rremote: Counting objects:  80% (148/184)\u001b[K\rremote: Counting objects:  81% (150/184)\u001b[K\rremote: Counting objects:  82% (151/184)\u001b[K\rremote: Counting objects:  83% (153/184)\u001b[K\rremote: Counting objects:  84% (155/184)\u001b[K\rremote: Counting objects:  85% (157/184)\u001b[K\rremote: Counting objects:  86% (159/184)\u001b[K\rremote: Counting objects:  87% (161/184)\u001b[K\rremote: Counting objects:  88% (162/184)\u001b[K\rremote: Counting objects:  89% (164/184)\u001b[K\rremote: Counting objects:  90% (166/184)\u001b[K\rremote: Counting objects:  91% (168/184)\u001b[K\rremote: Counting objects:  92% (170/184)\u001b[K\rremote: Counting objects:  93% (172/184)\u001b[K\rremote: Counting objects:  94% (173/184)\u001b[K\rremote: Counting objects:  95% (175/184)\u001b[K\rremote: Counting objects:  96% (177/184)\u001b[K\rremote: Counting objects:  97% (179/184)\u001b[K\rremote: Counting objects:  98% (181/184)\u001b[K\rremote: Counting objects:  99% (183/184)\u001b[K\rremote: Counting objects: 100% (184/184)\u001b[K\rremote: Counting objects: 100% (184/184), done.\u001b[K\n",
            "remote: Compressing objects: 100% (101/101), done.\u001b[K\n",
            "remote: Total 696 (delta 90), reused 134 (delta 82), pack-reused 512 (from 1)\u001b[K\n",
            "Receiving objects: 100% (696/696), 23.33 MiB | 25.28 MiB/s, done.\n",
            "Resolving deltas: 100% (307/307), done.\n"
          ]
        }
      ]
    },
    {
      "cell_type": "markdown",
      "source": [
        "###Import of classes"
      ],
      "metadata": {
        "id": "8Si4G3wfhIXh"
      }
    },
    {
      "cell_type": "code",
      "source": [
        "#Imported the required classes from the internal modules:\n",
        "from softpy.evolutionary.candidate import FloatVectorCandidate\n",
        "from softpy.evolutionary.singlestate import MetaHeuristicsAlgorithm\n",
        "import numpy as np\n",
        "import random"
      ],
      "metadata": {
        "id": "F4jBHO5cegN6"
      },
      "execution_count": 9,
      "outputs": []
    },
    {
      "cell_type": "markdown",
      "source": [
        "This setup allows to use the softpy components (like FloatVectorCandidate) as if they were installed modules, directly inside the Colab environment.\n"
      ],
      "metadata": {
        "id": "bffgVPMqfJEH"
      }
    },
    {
      "cell_type": "markdown",
      "source": [
        "###Definition of ParticleCandidate"
      ],
      "metadata": {
        "id": "FVOjkG4_hMuq"
      }
    },
    {
      "cell_type": "code",
      "source": [
        "class ParticleCandidate(FloatVectorCandidate):\n",
        "    def __init__(self, size, lower, upper, candidate, velocity,\n",
        "             inertia=0.5, wl=0.3, wn=0.5, wg=0.2):            #constructor method that initializes all attributes of the particle\n",
        "\n",
        "\n",
        "        assert abs(wl + wn + wg - 1.0) < 1e-6, \"Weights must sum to 1\"        #test if wl + wn + wg - 1.0 < 0.000001 (checks if the absolute difference is less than a very small number)\n",
        "      #I haven't used (wl + wn + wg ) == 1.0 because if dealing with decimals number this method can rise to imprecisions\n",
        "\n",
        "        self.size = size        #dimensionality of the candidate vector\n",
        "        self.lower = lower      #lower bounds for each component\n",
        "        self.upper = upper      #upper bounds for each component\n",
        "        self.candidate = candidate  #position of the particle\n",
        "        self.velocity = velocity    #velocity of the particle\n",
        "        self.inertia = inertia    #inertia weight\n",
        "        self.wl = wl            #weight for personal best\n",
        "        self.wn = wn            #weight for neighborhood best\n",
        "        self.wg = wg            #weight for global best\n",
        "\n",
        "        super().__init__(size=size, candidate=candidate, distribution=None, lower=lower, upper=upper)   #initialization\n",
        "\n",
        "    @staticmethod         #generates a new particle with random position and velocity within the given bounds\n",
        "    def generate(size, lower, upper, inertia=0.5, wl=0.3, wn=0.5, wg=0.2):\n",
        "        candidate = np.random.uniform(lower, upper)\n",
        "        range_ = np.abs(upper - lower)\n",
        "        velocity = np.random.uniform(-range_, range_)\n",
        "        return ParticleCandidate(size, lower, upper, candidate, velocity, inertia, wl, wn, wg)\n",
        "\n",
        "    def mutate(self):     #updates the particle's position by adding its velocity\n",
        "        self.candidate += self.velocity\n",
        "        overflow_low = self.candidate < self.lower\n",
        "        overflow_high = self.candidate > self.upper\n",
        "        self.candidate[overflow_low] = self.lower[overflow_low] + (self.lower[overflow_low] - self.candidate[overflow_low])\n",
        "        self.candidate[overflow_high] = self.upper[overflow_high] - (self.candidate[overflow_high] - self.upper[overflow_high])\n",
        "        #applies boundary correction if the new position exceeds the defined limits\n",
        "\n",
        "    def recombine(self, local_best, neighbor_best, global_best):  #updates the particle's velocity based on the influence of its personal best neighborhood best, and the global best positions\n",
        "        rl = np.random.uniform(0, 1, size=self.size)\n",
        "        rn = np.random.uniform(0, 1, size=self.size)\n",
        "        rg = np.random.uniform(0, 1, size=self.size)\n",
        "\n",
        "        #compute the three components of velocity update\n",
        "        personal = self.wl * rl * (local_best.candidate - self.candidate)\n",
        "        neighborhood = self.wn * rn * (neighbor_best.candidate - self.candidate)\n",
        "        global_ = self.wg * rg * (global_best.candidate - self.candidate)\n",
        "\n",
        "        #update velocity\n",
        "        self.velocity = self.inertia * self.velocity + personal + neighborhood + global_"
      ],
      "metadata": {
        "id": "tPEX3P7qfQcQ"
      },
      "execution_count": 10,
      "outputs": []
    },
    {
      "cell_type": "markdown",
      "source": [
        "###Definition of PSO\n"
      ],
      "metadata": {
        "id": "liwq-ekchSsr"
      }
    },
    {
      "cell_type": "markdown",
      "source": [
        "Particle Swarm Optimizer implementing a population-based metaheuristic.\n",
        "Each particle updates its position based on personal best, neighborhood best, and global best.\n",
        "\n",
        "fit method executes the PSO optimization process for a number of iterations."
      ],
      "metadata": {
        "id": "r5kdzjg7N4Q2"
      }
    },
    {
      "cell_type": "code",
      "source": [
        "class ParticleSwarmOptimizer(MetaHeuristicsAlgorithm):\n",
        "    def __init__(self, candidate_type, fitness_func, pop_size, n_neighbors, **kwargs):\n",
        "        super().__init__(candidate_type, fitness_func)\n",
        "\n",
        "        self.candidate_type = candidate_type      #class used to generate candidates\n",
        "        self.fitness_func = fitness_func          #fitness function to evaluate candidates\n",
        "        self.pop_size = pop_size                  #number of particles in the swarm\n",
        "        self.n_neighbors = n_neighbors            #number of neighbors per particle\n",
        "        self.kwargs = kwargs\n",
        "\n",
        "        #initialize population and tracking variables\n",
        "        self.population = []                      #list of ParticleCandidate instances\n",
        "        self.best = [None] * pop_size             #best known position for each particle\n",
        "        self.fitness_best = np.full(pop_size, -np.inf)   #best fitness value for each particle\n",
        "        self.global_best = None                   #best position found in the entire swarm\n",
        "        self.fitness_global_best = -np.inf        #best fitness value found globally\n",
        "\n",
        "    def fit(self, n_iters=10, keep_history=False):\n",
        "        #recover key hyperparameters\n",
        "        size = self.kwargs[\"size\"]\n",
        "        lower = self.kwargs[\"lower\"]\n",
        "        upper = self.kwargs[\"upper\"]\n",
        "        inertia = self.kwargs.get(\"inertia\", 0.5)\n",
        "        wl = self.kwargs.get(\"wl\", 0.3)\n",
        "        wn = self.kwargs.get(\"wn\", 0.5)\n",
        "        wg = self.kwargs.get(\"wg\", 0.2)\n",
        "\n",
        "        #generate the initial population\n",
        "        self.population = [\n",
        "            self.candidate_type.generate(size, lower, upper, inertia, wl, wn, wg)\n",
        "            for _ in range(self.pop_size)\n",
        "        ]\n",
        "\n",
        "        if keep_history:\n",
        "            self.best_h = np.empty(n_iters, dtype=object)\n",
        "            self.fitness_h = np.zeros(n_iters)\n",
        "\n",
        "        for it in range(n_iters):           #optimization loop\n",
        "            for i, particle in enumerate(self.population):\n",
        "                fitness = self.fitness_func(particle)\n",
        "\n",
        "                #update personal best\n",
        "                if fitness > self.fitness_best[i]:\n",
        "                    self.fitness_best[i] = fitness\n",
        "                    self.best[i] = particle\n",
        "\n",
        "                #update global best\n",
        "                if fitness > self.fitness_global_best:\n",
        "                    self.fitness_global_best = fitness\n",
        "                    self.global_best = particle\n",
        "\n",
        "            if keep_history:\n",
        "                self.best_h[it] = self.global_best\n",
        "                self.fitness_h[it] = self.fitness_global_best\n",
        "\n",
        "            #update all particles using neighbors and bests\n",
        "            for i, particle in enumerate(self.population):\n",
        "                neighbors = random.sample(\n",
        "                    [j for j in range(self.pop_size) if j != i],\n",
        "                    min(self.n_neighbors, self.pop_size - 1)\n",
        "                )\n",
        "                #identify best neighbor\n",
        "                best_neighbor_idx = max(neighbors, key=lambda j: self.fitness_best[j])\n",
        "                neighbor_best = self.best[best_neighbor_idx]\n",
        "\n",
        "                #update particle velocity and position\n",
        "                particle.recombine(self.best[i], neighbor_best, self.global_best)\n",
        "                particle.mutate()\n",
        "\n",
        "        #save final besst candidate\n",
        "        self.best = self.global_best\n",
        "        self.fitness_best = self.fitness_global_best\n",
        "        self.is_fitted = True\n",
        "        return self.global_best\n"
      ],
      "metadata": {
        "id": "Pswqj7G2gyVI"
      },
      "execution_count": 11,
      "outputs": []
    },
    {
      "cell_type": "markdown",
      "source": [
        "###Fitness function"
      ],
      "metadata": {
        "id": "tDksm6fdhcxd"
      }
    },
    {
      "cell_type": "markdown",
      "source": [
        "The sphere function is a common benchmark used in optimization and evolutionary algorithms.\n",
        "It is a smooth, convex, and unimodal function defined as: $$f(x) = \\sum_{i=1}^{n} x_i^2$$\n",
        "In this case I put the minus sign because the aim is to let the optimizer maximize and find the closest point to origin:  $$f(x) = -\\sum_{i=1}^{n} x_i^2$$"
      ],
      "metadata": {
        "id": "67fAETwKhw3y"
      }
    },
    {
      "cell_type": "code",
      "source": [
        "def sphere_function(candidate):\n",
        "    return -np.sum(candidate.candidate ** 2)"
      ],
      "metadata": {
        "id": "N2oQhwYlhfeV"
      },
      "execution_count": 12,
      "outputs": []
    },
    {
      "cell_type": "markdown",
      "source": [
        "###Algorithm execution"
      ],
      "metadata": {
        "id": "V7iQNv-VjDJ3"
      }
    },
    {
      "cell_type": "code",
      "source": [
        "# definition of the Particle Swarm Optimizer\n",
        "optimizer = ParticleSwarmOptimizer(\n",
        "    candidate_type=ParticleCandidate,\n",
        "    fitness_func=sphere_function,\n",
        "    pop_size=20,             #number of particles in the swarm\n",
        "    n_neighbors=5,           #number of neighbors used in local best\n",
        "    size=10,                 #dimension of the search space\n",
        "    lower=np.full(10, -5),   #lower bounds\n",
        "    upper=np.full(10, 5),    #upper bounds\n",
        "    inertia=0.5,             #inertia weight\n",
        "    wl=0.3,                  #weight for personal best\n",
        "    wn=0.5,                  #weight for neighborhood best\n",
        "    wg=0.2                   #weight for global best\n",
        ")\n",
        "\n",
        "# execution of optimization process\n",
        "best = optimizer.fit(n_iters=20, keep_history=True) #num of iteration\n",
        "\n",
        "# output and final results\n",
        "print(\"Best fitness:\", optimizer.fitness_best)\n",
        "print(\"Best position:\", optimizer.best.candidate)\n"
      ],
      "metadata": {
        "colab": {
          "base_uri": "https://localhost:8080/"
        },
        "id": "0RogbxpajGLY",
        "outputId": "7a4eba82-ee53-4a39-e5fc-be31265494a6"
      },
      "execution_count": 13,
      "outputs": [
        {
          "output_type": "stream",
          "name": "stdout",
          "text": [
            "Best fitness: -4.93805597371517\n",
            "Best position: [ 0.5538086  -3.63946725  1.49013382  1.12324842  3.02191301  1.56506139\n",
            " -0.98635452  0.16502157 -0.15697689  0.82075114]\n"
          ]
        }
      ]
    },
    {
      "cell_type": "markdown",
      "source": [
        "###Visualization"
      ],
      "metadata": {
        "id": "q4XecAT4jYpR"
      }
    },
    {
      "cell_type": "code",
      "source": [
        "import matplotlib.pyplot as plt\n",
        "\n",
        "plt.plot(optimizer.fitness_h)\n",
        "plt.title(\"Fitness over iterations\")\n",
        "plt.xlabel(\"Iteration\")\n",
        "plt.ylabel(\"Best Fitness\")\n",
        "plt.grid(True)\n",
        "plt.show()"
      ],
      "metadata": {
        "colab": {
          "base_uri": "https://localhost:8080/",
          "height": 472
        },
        "id": "sbjRgySmN-0m",
        "outputId": "622c7c3c-0b8b-4feb-fccc-935339c74bd3"
      },
      "execution_count": 14,
      "outputs": [
        {
          "output_type": "display_data",
          "data": {
            "text/plain": [
              "<Figure size 640x480 with 1 Axes>"
            ],
            "image/png": "[encoded data removed]"
          },
          "metadata": {}
        }
      ]
    },
    {
      "cell_type": "markdown",
      "source": [
        "##Final result\n",
        "The algorithm returns the best solution (position) found and its corresponding fitness value.\n",
        "\n",
        "###Note\n",
        "Result may vary between runs due to the stochastic nature of PSO.\n",
        "To obtain repeatable results, it would be enough to fix a seed in the random generation\n",
        "\n",
        "    np.random.seed(42)\n",
        "    random.seed(42)"
      ],
      "metadata": {
        "id": "PVAjD3itOiQ3"
      }
    }
  ]
}